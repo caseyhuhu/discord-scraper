{
 "cells": [
  {
   "cell_type": "code",
   "execution_count": 220,
   "metadata": {},
   "outputs": [],
   "source": [
    "import pandas as pd\n",
    "import matplotlib.pyplot as plt\n",
    "import datetime\n",
    "from datetime import date\n",
    "import datetime\n",
    "from datetime import timedelta\n",
    "import numpy as np\n",
    "import re\n",
    "from emoji import UNICODE_EMOJI\n",
    "pd.options.mode.chained_assignment = None  # default='warn'"
   ]
  },
  {
   "cell_type": "code",
   "execution_count": null,
   "metadata": {},
   "outputs": [],
   "source": [
    "data = pd.read_csv(\"Combined.csv\", index_col=0)\n",
    "data = data[data['content'].notna()]\n",
    "data = data[data['author'] != 'Groovy']\n",
    "users = np.unique(data['author'])\n",
    "data['time'] = pd.to_datetime(data['time'])\n",
    "data = data.sort_values('time')\n",
    "data = data.reset_index(drop=True)\n",
    "data = data.drop('attachment', axis=1)\n",
    "data = data.replace(regex={'\\\\r\\\\r\\\\n': ' '})\n",
    "moddata = data[~data['content'].str.match('[A-Za-z\\s.,!?\\\"\\'#*:()0-9|^]+')]\n",
    "emojidata = moddata[moddata['content'].apply(lambda x: contains_emoji(x))]\n",
    "notemoji = moddata[moddata['content'].apply(lambda x: not contains_emoji(x))]"
   ]
  },
  {
   "cell_type": "code",
   "execution_count": null,
   "metadata": {},
   "outputs": [],
   "source": [
    "def count_emote(emote_dict, msg):\n",
    "    counted = set()\n",
    "    for token in msg.split():\n",
    "        if token[0] == '<' and token[-1] == '>' and '@' not in token and token.count(':') == 2:\n",
    "            emote = token[1:token.rfind(':') + 1]\n",
    "            if emote not in counted:\n",
    "                counted.add(emote)\n",
    "                if emote in emote_dict:\n",
    "                    emote_dict[emote] += 1\n",
    "                else:\n",
    "                    emote_dict[emote] = 1\n",
    "\n",
    "emote_dict = {}\n",
    "for msg in notemoji['content']:\n",
    "    count_emote(emote_dict, msg)\n",
    "emote_list = sorted(emote_dict.items(), key=lambda item: item[1], reverse=True)\n",
    "emote_df = pd.DataFrame(emote_list, columns=['Emote', 'Count'])\n",
    "emote_df.to_csv('Emote Usage.csv')"
   ]
  },
  {
   "cell_type": "code",
   "execution_count": null,
   "metadata": {},
   "outputs": [],
   "source": [
    "def count_emoji(emoji_dict, msg):\n",
    "    counted = set()\n",
    "    for char in msg:\n",
    "        if char in UNICODE_EMOJI['en'] and char not in counted:\n",
    "            counted.add(char)\n",
    "            if char in emoji_dict:\n",
    "                emoji_dict[char] += 1\n",
    "            else:\n",
    "                emoji_dict[char] = 1\n",
    "\n",
    "emoji_dict = {}\n",
    "for msg in emojidata['content']:\n",
    "    count_emoji(emoji_dict, msg)\n",
    "emoji_list = sorted(emoji_dict.items(), key=lambda item: item[1], reverse=True)\n",
    "emoji_df = pd.DataFrame(emoji_list, columns=['Emoji', 'Count'])\n",
    "emoji_df.to_csv('Emoji Usage.csv')"
   ]
  },
  {
   "cell_type": "code",
   "execution_count": 44,
   "metadata": {},
   "outputs": [],
   "source": [
    "data = pd.read_csv(\"Combined.csv\", index_col=0)\n",
    "data = data[data['content'].notna()]\n",
    "data = data[data['author'] != 'Groovy']\n",
    "users = np.unique(data['author'])\n",
    "data = data.replace(regex={'<.*:.+:.+>': '§', r'http[^\\s]+': '¤', '<@.+>': '@'})\n",
    "data = data[data['content'] != '¤']\n",
    "data = data.replace(regex={'\\\\r\\\\r\\\\n': ' '})\n",
    "data['time'] = pd.to_datetime(data['time'])\n",
    "data = data.sort_values('time')"
   ]
  },
  {
   "cell_type": "code",
   "execution_count": 285,
   "metadata": {},
   "outputs": [],
   "source": [
    "output_df = pd.DataFrame(index=users, columns=['Total msgs', 'Spoilers', 'Mean msg length', 'Median msg length', \n",
    "                                               'Msg length standard dev', 'Short msgs', 'Long msgs', \n",
    "                                               'Msgs with emotes', 'Emote-only msgs', 'Longest msg chain', \n",
    "                                               'Longest chain day', 'Longest msg chain (not #voice-chat)', \n",
    "                                               'Longest chain day (not #voice-chat)']) \n",
    "# Also most active day in general?"
   ]
  },
  {
   "cell_type": "code",
   "execution_count": 286,
   "metadata": {},
   "outputs": [],
   "source": [
    "# Total msgs\n",
    "for user in users:\n",
    "    output_df.loc[user, 'Total msgs'] = len(data[data['author'] == user])"
   ]
  },
  {
   "cell_type": "code",
   "execution_count": 287,
   "metadata": {},
   "outputs": [],
   "source": [
    "# Most spoiler tags\n",
    "spoilerdata = data[data['content'].str.contains('\\|\\|')]\n",
    "for user in users:\n",
    "    user_spoilerdata = spoilerdata[spoilerdata['author'] == user]\n",
    "    output_df.loc[user, 'Spoilers'] = len(user_spoilerdata)"
   ]
  },
  {
   "cell_type": "code",
   "execution_count": 288,
   "metadata": {},
   "outputs": [],
   "source": [
    "# Mean, median, standard dev of message length (only messages containing non-link letters are counted)\n",
    "for user in users:\n",
    "    user_data = data[data['author'] == user]\n",
    "    user_data = user_data[user_data['content'].str.contains('[A-Za-z]')]\n",
    "    user_data['msg len'] = user_data['content'].str.len()\n",
    "    output_df.loc[user, 'Median msg length'] = np.median(user_data['msg len'])\n",
    "    output_df.loc[user, 'Mean msg length'] = np.mean(user_data['msg len'])\n",
    "    output_df.loc[user, 'Msg length standard dev'] = np.std(user_data['msg len'])"
   ]
  },
  {
   "cell_type": "code",
   "execution_count": 289,
   "metadata": {},
   "outputs": [],
   "source": [
    "# Short (including emote-only) and long messages (longer than average mean msg length + average msg length std)\n",
    "LONG_MESSAGE_THRESHOLD = np.mean(output_df['Msg length standard dev']) + np.mean(output_df['Mean msg length'])\n",
    "for user in users:\n",
    "    user_data = data[data['author'] == user]\n",
    "    user_data['msg len'] = user_data['content'].str.len()\n",
    "    user_data['spaces'] = user_data['content'].apply(lambda x: len(re.findall('\\s+', x)))\n",
    "    output_df.loc[user, 'Short msgs'] = len(user_data[user_data['spaces'] < 6])\n",
    "    output_df.loc[user, 'Long msgs'] = len(user_data[user_data['msg len'] > LONG_MESSAGE_THRESHOLD])"
   ]
  },
  {
   "cell_type": "code",
   "execution_count": 290,
   "metadata": {},
   "outputs": [],
   "source": [
    "def contains_emoji(msg):\n",
    "    for char in msg:\n",
    "        if char in UNICODE_EMOJI['en']:\n",
    "            return True\n",
    "    return False\n",
    "\n",
    "def only_emojis(msg):\n",
    "    nospace = \"\".join(msg.split())\n",
    "    found_emoji = False\n",
    "    for char in nospace:\n",
    "        if char == '§' or char in UNICODE_EMOJI['en']:\n",
    "            found_emoji = True\n",
    "        elif char != '?' and char != '.' and char != ',' and char != '!':\n",
    "            return False\n",
    "    \n",
    "    return found_emoji"
   ]
  },
  {
   "cell_type": "code",
   "execution_count": 291,
   "metadata": {},
   "outputs": [],
   "source": [
    "# Messages with emotes/emojis and messages with only emotes/emojis and punctuation\n",
    "for user in users:\n",
    "    user_data = data[data['author'] == user]\n",
    "    user_data['has emoji'] = user_data['content'].apply(lambda x: contains_emoji(x))\n",
    "    user_data['has emoji'] = (user_data['has emoji']) | (user_data['content'].apply(lambda x: '§' in x))\n",
    "    user_data['only emoji'] = user_data['content'].apply(lambda x: only_emojis(x))\n",
    "    output_df.loc[user, 'Emote-only msgs'] = len(user_data[user_data['only emoji']])\n",
    "    output_df.loc[user, 'Msgs with emotes'] = len(user_data[user_data['has emoji']])"
   ]
  },
  {
   "cell_type": "code",
   "execution_count": 294,
   "metadata": {},
   "outputs": [],
   "source": [
    "# The most consecutive messages a user sent with no more than a 20 minute pause,\n",
    "# in #voice-chat and outside of #voice-chat\n",
    "for user in users:\n",
    "    user_data = data[data['author'] == user]\n",
    "    user_data = user_data[user_data['channel'] != '#voice-chat']\n",
    "    user_data['next time'] = user_data['time'].shift(-1)\n",
    "    user_data['next time'].iloc[-1] = datetime.datetime(2022, 12, 31)\n",
    "    user_data['not last msg'] = user_data['next time'] - user_data['time'] < timedelta(minutes=20)\n",
    "    user_data = user_data.drop('next time', axis=1)\n",
    "    user_data['trail len'] = np.zeros(len(user_data))\n",
    "    for row in range(len(user_data) - 1, -1, -1):\n",
    "        if not user_data['not last msg'].iloc[row]:\n",
    "            user_data['trail len'].iloc[row] = 1\n",
    "        else:\n",
    "            user_data['trail len'].iloc[row] = user_data['trail len'].iloc[row + 1] + 1\n",
    "    user_data = user_data.sort_values('trail len', ascending=False)\n",
    "    output_df.loc[user, 'Longest msg chain (not #voice-chat)'] = user_data.iloc[0, 6]\n",
    "    output_df.loc[user, 'Longest chain day (not #voice-chat)'] = user_data.iloc[0, 4].date()"
   ]
  },
  {
   "cell_type": "code",
   "execution_count": 303,
   "metadata": {},
   "outputs": [
    {
     "name": "stdout",
     "output_type": "stream",
     "text": [
      "2020-08-15\n"
     ]
    },
    {
     "data": {
      "text/plain": [
       "6043"
      ]
     },
     "execution_count": 303,
     "metadata": {},
     "output_type": "execute_result"
    }
   ],
   "source": [
    "# Day with the most messages\n",
    "busy_data = data.copy()\n",
    "busy_data['time'] = busy_data['time'].apply(lambda x: x.date())\n",
    "busiest_date = busy_data['time'].mode()[0]\n",
    "len(busy_data[busy_data['time'] == busiest_date])\n"
   ]
  }
 ],
 "metadata": {
  "kernelspec": {
   "display_name": "Python 3",
   "language": "python",
   "name": "python3"
  },
  "language_info": {
   "codemirror_mode": {
    "name": "ipython",
    "version": 3
   },
   "file_extension": ".py",
   "mimetype": "text/x-python",
   "name": "python",
   "nbconvert_exporter": "python",
   "pygments_lexer": "ipython3",
   "version": "3.7.1"
  }
 },
 "nbformat": 4,
 "nbformat_minor": 2
}
